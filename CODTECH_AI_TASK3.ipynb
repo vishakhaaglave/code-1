{
  "cells": [
    {
      "cell_type": "code",
      "source": [
        "pip install tensorflow matplotlib pillow numpy\n"
      ],
      "metadata": {
        "colab": {
          "base_uri": "https://localhost:8080/",
          "height": 0
        },
        "id": "P1F25asl43GI",
        "outputId": "95f0739e-737c-4f57-fff1-c82e3d690987"
      },
      "execution_count": 1,
      "outputs": [
        {
          "output_type": "stream",
          "name": "stdout",
          "text": [
            "Requirement already satisfied: tensorflow in /usr/local/lib/python3.11/dist-packages (2.18.0)\n",
            "Requirement already satisfied: matplotlib in /usr/local/lib/python3.11/dist-packages (3.10.0)\n",
            "Requirement already satisfied: pillow in /usr/local/lib/python3.11/dist-packages (11.2.1)\n",
            "Requirement already satisfied: numpy in /usr/local/lib/python3.11/dist-packages (2.0.2)\n",
            "Requirement already satisfied: absl-py>=1.0.0 in /usr/local/lib/python3.11/dist-packages (from tensorflow) (1.4.0)\n",
            "Requirement already satisfied: astunparse>=1.6.0 in /usr/local/lib/python3.11/dist-packages (from tensorflow) (1.6.3)\n",
            "Requirement already satisfied: flatbuffers>=24.3.25 in /usr/local/lib/python3.11/dist-packages (from tensorflow) (25.2.10)\n",
            "Requirement already satisfied: gast!=0.5.0,!=0.5.1,!=0.5.2,>=0.2.1 in /usr/local/lib/python3.11/dist-packages (from tensorflow) (0.6.0)\n",
            "Requirement already satisfied: google-pasta>=0.1.1 in /usr/local/lib/python3.11/dist-packages (from tensorflow) (0.2.0)\n",
            "Requirement already satisfied: libclang>=13.0.0 in /usr/local/lib/python3.11/dist-packages (from tensorflow) (18.1.1)\n",
            "Requirement already satisfied: opt-einsum>=2.3.2 in /usr/local/lib/python3.11/dist-packages (from tensorflow) (3.4.0)\n",
            "Requirement already satisfied: packaging in /usr/local/lib/python3.11/dist-packages (from tensorflow) (24.2)\n",
            "Requirement already satisfied: protobuf!=4.21.0,!=4.21.1,!=4.21.2,!=4.21.3,!=4.21.4,!=4.21.5,<6.0.0dev,>=3.20.3 in /usr/local/lib/python3.11/dist-packages (from tensorflow) (5.29.5)\n",
            "Requirement already satisfied: requests<3,>=2.21.0 in /usr/local/lib/python3.11/dist-packages (from tensorflow) (2.32.3)\n",
            "Requirement already satisfied: setuptools in /usr/local/lib/python3.11/dist-packages (from tensorflow) (75.2.0)\n",
            "Requirement already satisfied: six>=1.12.0 in /usr/local/lib/python3.11/dist-packages (from tensorflow) (1.17.0)\n",
            "Requirement already satisfied: termcolor>=1.1.0 in /usr/local/lib/python3.11/dist-packages (from tensorflow) (3.1.0)\n",
            "Requirement already satisfied: typing-extensions>=3.6.6 in /usr/local/lib/python3.11/dist-packages (from tensorflow) (4.14.0)\n",
            "Requirement already satisfied: wrapt>=1.11.0 in /usr/local/lib/python3.11/dist-packages (from tensorflow) (1.17.2)\n",
            "Requirement already satisfied: grpcio<2.0,>=1.24.3 in /usr/local/lib/python3.11/dist-packages (from tensorflow) (1.73.0)\n",
            "Requirement already satisfied: tensorboard<2.19,>=2.18 in /usr/local/lib/python3.11/dist-packages (from tensorflow) (2.18.0)\n",
            "Requirement already satisfied: keras>=3.5.0 in /usr/local/lib/python3.11/dist-packages (from tensorflow) (3.8.0)\n",
            "Requirement already satisfied: h5py>=3.11.0 in /usr/local/lib/python3.11/dist-packages (from tensorflow) (3.14.0)\n",
            "Requirement already satisfied: ml-dtypes<0.5.0,>=0.4.0 in /usr/local/lib/python3.11/dist-packages (from tensorflow) (0.4.1)\n",
            "Requirement already satisfied: tensorflow-io-gcs-filesystem>=0.23.1 in /usr/local/lib/python3.11/dist-packages (from tensorflow) (0.37.1)\n",
            "Requirement already satisfied: contourpy>=1.0.1 in /usr/local/lib/python3.11/dist-packages (from matplotlib) (1.3.2)\n",
            "Requirement already satisfied: cycler>=0.10 in /usr/local/lib/python3.11/dist-packages (from matplotlib) (0.12.1)\n",
            "Requirement already satisfied: fonttools>=4.22.0 in /usr/local/lib/python3.11/dist-packages (from matplotlib) (4.58.4)\n",
            "Requirement already satisfied: kiwisolver>=1.3.1 in /usr/local/lib/python3.11/dist-packages (from matplotlib) (1.4.8)\n",
            "Requirement already satisfied: pyparsing>=2.3.1 in /usr/local/lib/python3.11/dist-packages (from matplotlib) (3.2.3)\n",
            "Requirement already satisfied: python-dateutil>=2.7 in /usr/local/lib/python3.11/dist-packages (from matplotlib) (2.9.0.post0)\n",
            "Requirement already satisfied: wheel<1.0,>=0.23.0 in /usr/local/lib/python3.11/dist-packages (from astunparse>=1.6.0->tensorflow) (0.45.1)\n",
            "Requirement already satisfied: rich in /usr/local/lib/python3.11/dist-packages (from keras>=3.5.0->tensorflow) (13.9.4)\n",
            "Requirement already satisfied: namex in /usr/local/lib/python3.11/dist-packages (from keras>=3.5.0->tensorflow) (0.1.0)\n",
            "Requirement already satisfied: optree in /usr/local/lib/python3.11/dist-packages (from keras>=3.5.0->tensorflow) (0.16.0)\n",
            "Requirement already satisfied: charset-normalizer<4,>=2 in /usr/local/lib/python3.11/dist-packages (from requests<3,>=2.21.0->tensorflow) (3.4.2)\n",
            "Requirement already satisfied: idna<4,>=2.5 in /usr/local/lib/python3.11/dist-packages (from requests<3,>=2.21.0->tensorflow) (3.10)\n",
            "Requirement already satisfied: urllib3<3,>=1.21.1 in /usr/local/lib/python3.11/dist-packages (from requests<3,>=2.21.0->tensorflow) (2.4.0)\n",
            "Requirement already satisfied: certifi>=2017.4.17 in /usr/local/lib/python3.11/dist-packages (from requests<3,>=2.21.0->tensorflow) (2025.6.15)\n",
            "Requirement already satisfied: markdown>=2.6.8 in /usr/local/lib/python3.11/dist-packages (from tensorboard<2.19,>=2.18->tensorflow) (3.8)\n",
            "Requirement already satisfied: tensorboard-data-server<0.8.0,>=0.7.0 in /usr/local/lib/python3.11/dist-packages (from tensorboard<2.19,>=2.18->tensorflow) (0.7.2)\n",
            "Requirement already satisfied: werkzeug>=1.0.1 in /usr/local/lib/python3.11/dist-packages (from tensorboard<2.19,>=2.18->tensorflow) (3.1.3)\n",
            "Requirement already satisfied: MarkupSafe>=2.1.1 in /usr/local/lib/python3.11/dist-packages (from werkzeug>=1.0.1->tensorboard<2.19,>=2.18->tensorflow) (3.0.2)\n",
            "Requirement already satisfied: markdown-it-py>=2.2.0 in /usr/local/lib/python3.11/dist-packages (from rich->keras>=3.5.0->tensorflow) (3.0.0)\n",
            "Requirement already satisfied: pygments<3.0.0,>=2.13.0 in /usr/local/lib/python3.11/dist-packages (from rich->keras>=3.5.0->tensorflow) (2.19.1)\n",
            "Requirement already satisfied: mdurl~=0.1 in /usr/local/lib/python3.11/dist-packages (from markdown-it-py>=2.2.0->rich->keras>=3.5.0->tensorflow) (0.1.2)\n"
          ]
        }
      ]
    },
    {
      "cell_type": "code",
      "source": [
        "pip install requests\n"
      ],
      "metadata": {
        "id": "8LFyAny96MA-",
        "outputId": "138c3355-d77b-4dfd-a32a-13037126a512",
        "colab": {
          "base_uri": "https://localhost:8080/",
          "height": 0
        }
      },
      "execution_count": 6,
      "outputs": [
        {
          "output_type": "stream",
          "name": "stdout",
          "text": [
            "Requirement already satisfied: requests in /usr/local/lib/python3.11/dist-packages (2.32.3)\n",
            "Requirement already satisfied: charset-normalizer<4,>=2 in /usr/local/lib/python3.11/dist-packages (from requests) (3.4.2)\n",
            "Requirement already satisfied: idna<4,>=2.5 in /usr/local/lib/python3.11/dist-packages (from requests) (3.10)\n",
            "Requirement already satisfied: urllib3<3,>=1.21.1 in /usr/local/lib/python3.11/dist-packages (from requests) (2.4.0)\n",
            "Requirement already satisfied: certifi>=2017.4.17 in /usr/local/lib/python3.11/dist-packages (from requests) (2025.6.15)\n"
          ]
        }
      ]
    },
    {
      "cell_type": "code",
      "source": [
        "import tensorflow as tf\n",
        "import numpy as np\n",
        "import matplotlib.pyplot as plt\n",
        "import requests\n",
        "from io import BytesIO\n",
        "from PIL import Image\n",
        "from tensorflow.keras.preprocessing import image as k_image\n",
        "\n",
        "# Function to download image from URL and load it into a tensor\n",
        "def load_image_from_url(img_url, target_size=(256, 256)):\n",
        "    try:\n",
        "        # Custom headers to mimic a browser request\n",
        "        headers = {\n",
        "            'User-Agent': 'Mozilla/5.0 (Windows NT 10.0; Win64; x64) AppleWebKit/537.36 (KHTML, like Gecko) Chrome/91.0.4472.124 Safari/537.36'\n",
        "        }\n",
        "\n",
        "        # Send GET request to the URL with custom headers\n",
        "        response = requests.get(img_url, headers=headers)\n",
        "\n",
        "        # Ensure the URL returns a valid image response\n",
        "        if response.status_code != 200:\n",
        "            raise ValueError(f\"Failed to download image from {img_url}, status code {response.status_code}\")\n",
        "\n",
        "        # Check the content type to ensure it's an image\n",
        "        content_type = response.headers.get('Content-Type')\n",
        "        if 'image' not in content_type:\n",
        "            raise ValueError(f\"URL does not return an image: {img_url}, content type: {content_type}\")\n",
        "\n",
        "        # Load the image from the response content\n",
        "        img = Image.open(BytesIO(response.content))\n",
        "        img = img.resize(target_size)  # Resize image\n",
        "        img = k_image.img_to_array(img)  # Convert to numpy array\n",
        "        img = np.expand_dims(img, axis=0)  # Add batch dimension\n",
        "        return tf.convert_to_tensor(img)  # Convert to tensor\n",
        "    except Exception as e:\n",
        "        print(f\"Error loading image from URL {img_url}: {e}\")\n",
        "        return None\n",
        "\n",
        "# Display image function\n",
        "def imshow(img, title=None):\n",
        "    img = img.numpy()\n",
        "    img = np.squeeze(img, axis=0)\n",
        "    img = np.clip(img, 0.0, 255.0).astype('uint8')\n",
        "    plt.imshow(img)\n",
        "    if title:\n",
        "        plt.title(title)\n",
        "    plt.axis('off')\n",
        "    plt.show()\n",
        "\n",
        "# Content loss function (MSE between content and generated image)\n",
        "def content_loss(content, generated):\n",
        "    return tf.reduce_mean(tf.square(content - generated))\n",
        "\n",
        "# Style loss function (Gram matrix approach)\n",
        "def gram_matrix(tensor):\n",
        "    channels = int(tensor.shape[-1])\n",
        "    a = tf.reshape(tensor, [-1, channels])\n",
        "    gram = tf.matmul(a, a, transpose_a=True)\n",
        "    return gram\n",
        "\n",
        "def style_loss(style, generated):\n",
        "    S = gram_matrix(style)\n",
        "    G = gram_matrix(generated)\n",
        "    return tf.reduce_mean(tf.square(S - G))\n",
        "\n",
        "# Total loss function (weighted sum of content and style loss)\n",
        "def total_loss(content_weight, style_weight, content_image, style_image, generated_image):\n",
        "    c_loss = content_loss(content_image, generated_image)\n",
        "    s_loss = style_loss(style_image, generated_image)\n",
        "    total_loss = content_weight * c_loss + style_weight * s_loss\n",
        "    return total_loss\n",
        "\n",
        "# Define a simple function to calculate the gradients for optimization\n",
        "@tf.function\n",
        "def compute_gradients(content_weight, style_weight, content_image, style_image, generated_image):\n",
        "    with tf.GradientTape() as tape:\n",
        "        tape.watch(generated_image)\n",
        "        loss = total_loss(content_weight, style_weight, content_image, style_image, generated_image)\n",
        "    grads = tape.gradient(loss, generated_image)\n",
        "    return loss, grads\n",
        "\n",
        "# Function to optimize the image\n",
        "def optimize_image(content_image, style_image, content_weight=1e3, style_weight=1e-2, num_iterations=100):\n",
        "    generated_image = tf.Variable(content_image)  # Start with the content image\n",
        "    optimizer = tf.optimizers.Adam(learning_rate=0.02)\n",
        "\n",
        "    for i in range(num_iterations):\n",
        "        loss, grads = compute_gradients(content_weight, style_weight, content_image, style_image, generated_image)\n",
        "        optimizer.apply_gradients([(grads, generated_image)])\n",
        "\n",
        "        if i % 10 == 0:\n",
        "            print(f\"Iteration {i}, Loss: {loss.numpy()}\")\n",
        "            imshow(generated_image, title=f\"Iteration {i}\")\n",
        "\n",
        "    return generated_image\n",
        "\n",
        "# Main function to run NST\n",
        "def run_neural_style_transfer(content_url, style_url, content_weight=1e3, style_weight=1e-2, num_iterations=100):\n",
        "    # Load content and style images from URLs\n",
        "    content_image = load_image_from_url(content_url)\n",
        "    style_image = load_image_from_url(style_url)\n",
        "\n",
        "    # Check if images are successfully loaded\n",
        "    if content_image is None or style_image is None:\n",
        "        print(\"Error loading images, aborting neural style transfer.\")\n",
        "        return\n",
        "\n",
        "    # Start the optimization process\n",
        "    generated_image = optimize_image(content_image, style_image, content_weight, style_weight, num_iterations)\n",
        "\n",
        "    # Show final output\n",
        "    imshow(generated_image, title=\"Final Output\")\n",
        "\n",
        "# Example usage:\n",
        "content_image_url = 'https://www.w3schools.com/w3images/lights.jpg'  # Photo content image\n",
        "style_image_url = 'https://upload.wikimedia.org/wikipedia/commons/thumb/e/ec/Starry_Night_Over_the_Rhone.jpg/440px-Starry_Night_Over_the_Rhone.jpg'  # Starry Night painting\n",
        "\n",
        "run_neural_style_transfer(content_image_url, style_image_url, num_iterations=100)\n"
      ],
      "metadata": {
        "id": "Fuk9TxRP7cn5",
        "outputId": "3da654c9-633c-49dd-9fec-3878f09b147a",
        "colab": {
          "base_uri": "https://localhost:8080/",
          "height": 0
        }
      },
      "execution_count": 9,
      "outputs": [
        {
          "output_type": "stream",
          "name": "stdout",
          "text": [
            "Error loading image from URL https://upload.wikimedia.org/wikipedia/commons/thumb/e/ec/Starry_Night_Over_the_Rhone.jpg/440px-Starry_Night_Over_the_Rhone.jpg: Failed to download image from https://upload.wikimedia.org/wikipedia/commons/thumb/e/ec/Starry_Night_Over_the_Rhone.jpg/440px-Starry_Night_Over_the_Rhone.jpg, status code 404\n",
            "Error loading images, aborting neural style transfer.\n"
          ]
        }
      ]
    }
  ],
  "metadata": {
    "colab": {
      "name": "Welcome To Colab",
      "toc_visible": true,
      "provenance": []
    },
    "kernelspec": {
      "display_name": "Python 3",
      "name": "python3"
    }
  },
  "nbformat": 4,
  "nbformat_minor": 0
}