{
  "nbformat": 4,
  "nbformat_minor": 0,
  "metadata": {
    "colab": {
      "provenance": []
    },
    "kernelspec": {
      "name": "python3",
      "display_name": "Python 3"
    },
    "language_info": {
      "name": "python"
    }
  },
  "cells": [
    {
      "cell_type": "code",
      "source": [
        "# STEP 1: Install required packages\n",
        "!pip install SpeechRecognition\n",
        "!pip install pydub\n",
        "!apt install ffmpeg\n",
        "\n",
        "# STEP 2: Import libraries\n",
        "import speech_recognition as sr\n",
        "from pydub import AudioSegment\n",
        "\n",
        "# STEP 3: Convert MP3 to WAV (mono + 16kHz)\n",
        "def convert_mp3_to_wav(mp3_path, wav_path):\n",
        "    print(\"🎵 Converting MP3 to WAV...\")\n",
        "    sound = AudioSegment.from_mp3(mp3_path)\n",
        "    sound = sound.set_channels(1).set_frame_rate(16000)\n",
        "\n",
        "    duration = len(sound) / 1000\n",
        "    print(f\"⏱️ Audio duration: {duration:.2f} seconds\")\n",
        "\n",
        "    if duration > 60:\n",
        "        print(\"⚠️ Audio is too long! Please trim it under 60 seconds.\")\n",
        "        return False\n",
        "\n",
        "    sound.export(wav_path, format=\"wav\")\n",
        "    print(\"✅ Conversion complete!\")\n",
        "    return True\n",
        "\n",
        "# STEP 4: Transcribe the WAV file\n",
        "def transcribe_audio(audio_path):\n",
        "    recognizer = sr.Recognizer()\n",
        "    with sr.AudioFile(audio_path) as source:\n",
        "        print(\"🎙️ Listening...\")\n",
        "        audio_data = recognizer.record(source)\n",
        "        try:\n",
        "            print(\"💬 Transcribing (Hindi)...\")\n",
        "            text = recognizer.recognize_google(audio_data, language=\"hi-IN\")\n",
        "            print(\"📝 Transcription:\", text)\n",
        "            return text\n",
        "        except sr.UnknownValueError:\n",
        "            print(\"❌ Couldn't understand the audio.\")\n",
        "        except sr.RequestError as e:\n",
        "            print(f\"⚠️ API request error: {e}\")\n",
        "\n",
        "# STEP 5: Provide your file paths\n",
        "mp3_file = \"/content/Intentions English Song WhatsApp Status Justin BieberOne Sided LoveAsif Rashid Intention Song - One Sided Love.mp3\"        # ← put your mp3 file here\n",
        "wav_file = \"/content/converted_audio.wav\"\n",
        "\n",
        "# STEP 6: Run the conversion & transcription\n",
        "if convert_mp3_to_wav(mp3_file, wav_file):\n",
        "    transcribe_audio(wav_file)\n"
      ],
      "metadata": {
        "colab": {
          "base_uri": "https://localhost:8080/",
          "height": 0
        },
        "id": "TiFh3ahVaqva",
        "outputId": "76478543-cf42-487f-c158-8c9c88c04c87"
      },
      "execution_count": 8,
      "outputs": [
        {
          "output_type": "stream",
          "name": "stdout",
          "text": [
            "Requirement already satisfied: SpeechRecognition in /usr/local/lib/python3.11/dist-packages (3.14.3)\n",
            "Requirement already satisfied: typing-extensions in /usr/local/lib/python3.11/dist-packages (from SpeechRecognition) (4.14.0)\n",
            "Requirement already satisfied: pydub in /usr/local/lib/python3.11/dist-packages (0.25.1)\n",
            "Reading package lists... Done\n",
            "Building dependency tree... Done\n",
            "Reading state information... Done\n",
            "ffmpeg is already the newest version (7:4.4.2-0ubuntu0.22.04.1).\n",
            "0 upgraded, 0 newly installed, 0 to remove and 35 not upgraded.\n",
            "🎵 Converting MP3 to WAV...\n",
            "⏱️ Audio duration: 29.69 seconds\n",
            "✅ Conversion complete!\n",
            "🎙️ Listening...\n",
            "💬 Transcribing (Hindi)...\n",
            "❌ Couldn't understand the audio.\n"
          ]
        }
      ]
    }
  ]
}